{
 "cells": [
  {
   "attachments": {},
   "cell_type": "markdown",
   "metadata": {},
   "source": [
    "# <center>Computational Systems Biology, Homework 4\n",
    "<center>王宇哲 2201112023\n",
    "<center>Academy for Advanced Interdisciplinary Studies, Peking University"
   ]
  },
  {
   "attachments": {},
   "cell_type": "markdown",
   "metadata": {},
   "source": [
    "## 1. Waiting times for chemical reations"
   ]
  },
  {
   "attachments": {},
   "cell_type": "markdown",
   "id": "3543c8ca",
   "metadata": {},
   "source": [
    "In the previous assignment, we saw that for a chemical reaction occurring at rate $r$, the distribution of waiting times $\\tau$ between reaction events is given by:\n",
    "$$\n",
    "p(\\tau)d\\tau = r e^{-r\\tau}d\\tau\\tag{1}\n",
    "$$"
   ]
  },
  {
   "attachments": {},
   "cell_type": "markdown",
   "id": "b5a744d9",
   "metadata": {},
   "source": [
    "a. By integrating over time, verify that the distribution is normalized"
   ]
  },
  {
   "attachments": {},
   "cell_type": "markdown",
   "id": "87511196",
   "metadata": {},
   "source": [
    "***Proof.*** By integrating over time, we have\n",
    "$$\n",
    "\\begin{aligned}\n",
    "\\int_{0}^{\\infty}p(\\tau)d\\tau &= \\int_{0}^{\\infty}r e^{-r\\tau}d\\tau\\\\\n",
    "&= -e^{-r\\tau}\\Big|_{0}^{\\infty}\\\\\n",
    "&=1\n",
    "\\end{aligned}\\tag{2}\n",
    "$$\n",
    "hence the distribution is normalized."
   ]
  },
  {
   "attachments": {},
   "cell_type": "markdown",
   "id": "fa4102d3",
   "metadata": {},
   "source": [
    "b. Here we will see a method for obtaining a random variable from a given distribution, starting from a uniformly distributed random variable. Suppose $u$ is a random variable with some distribution $p(u)$, and $\\theta(u)$ is a function of $u$. Then the probability that $\\theta^*$ lies between $\\theta(u)$ and $\\theta(u+du)$ is the same as the probability that $u^*$ lies between $u$ and $du$. This gives us a recipe for calculating the distribution $p(\\theta)$:\n",
    "$$\n",
    "p(\\theta)d\\theta = p(u)du\\Rightarrow p(\\theta) = p(u)\\left|\\frac{du}{d\\theta}\\right|\\tag{3}\n",
    "$$\n",
    "Assuming $u$ is uniformly distributed between 0 and 1, show that the number\n",
    "$$\n",
    "\\theta(u)=\\frac{1}{r}\\ln{\\Big(\\frac{1}{u}\\Big)}\\tag{4}\n",
    "$$\n",
    "is distributed precisely as required for the waiting times above."
   ]
  },
  {
   "attachments": {},
   "cell_type": "markdown",
   "id": "eda736bf",
   "metadata": {},
   "source": [
    "***Proof.*** Since $u$ is uniformly distributed between 0 and 1, we have\n",
    "$$\n",
    "p(u) = 1\\tag{5}\n",
    "$$\n",
    "from (4) we have\n",
    "$$\n",
    "u = e^{-r\\theta}\\tag{6}\n",
    "$$\n",
    "hence\n",
    "$$\n",
    "\\frac{d\\theta}{du} = -\\frac{1}{r}\\frac{1}{u} = -\\frac{1}{r}e^{r\\theta}\\tag{7}\n",
    "$$\n",
    "hence\n",
    "$$\n",
    "p(\\theta) = p(u)\\left|\\frac{du}{d\\theta}\\right| = re^{-r\\theta}\\tag{8}\n",
    "$$\n",
    "which is exactly the distribution of waiting times above."
   ]
  },
  {
   "attachments": {},
   "cell_type": "markdown",
   "id": "fd42dc28",
   "metadata": {},
   "source": [
    "## 2. Stochastic simulation of an auto-regulatory system"
   ]
  },
  {
   "attachments": {},
   "cell_type": "markdown",
   "id": "2277d7b8",
   "metadata": {},
   "source": [
    "In this problem you will learn how to implement a stochastic simulation. You will also use the simulation to unveil the role of negative auto-regulation in reducing fluctuations."
   ]
  },
  {
   "attachments": {},
   "cell_type": "markdown",
   "id": "6cd4b42a",
   "metadata": {},
   "source": [
    "a. Consider a simple differential equation that describes the rate of change of some molecule $x$:\n",
    "$$\n",
    "\\frac{dx}{dt} = \\beta - \\alpha x\\tag{9}\n",
    "$$\n",
    "What is the solution of the differential equation? Let's assume $\\beta=6$, $\\alpha=3$ and the initial condition $x(0)=x_0$."
   ]
  },
  {
   "attachments": {},
   "cell_type": "markdown",
   "id": "98ccc76c",
   "metadata": {},
   "source": [
    "***Proof.*** The solution of the differential equation is\n",
    "$$\n",
    "x(t) = \\frac{\\beta}{\\alpha} + \\Big(x_0-\\frac{\\beta}{\\alpha}\\Big)e^{-\\alpha t}=2+(x_0-2)e^{-3t}\\tag{10}\n",
    "$$"
   ]
  },
  {
   "attachments": {},
   "cell_type": "markdown",
   "id": "57bbd1ce",
   "metadata": {},
   "source": [
    "b. Unfortunately, the solution of the differential equation is deterministic and fails when fluctuations become important. Specifically, when the system has reached the steady state, the deterministic solution says that $x$ will no longer change. But if $x$ were to describe a real mRNA, then $x$ should fluctuate about its mean value, since translation and degradation are stochastic processes. Consistency with reality requires a stochastic description that respects both the probabilistic nature of events and the discreteness of molecule numbers. From now on, $x$ will represent the molecule numbers instead of molecule concentration, and the reaction rates ($\\beta$ and $\\alpha x$) will be regarded as probabilities per unit time of an reaction taking place. $\\beta$ will be the probability per unit time of the creation of a molecule $x$, and $\\alpha x$ will be the probability per unit time of the degradation of a molecule $x$. So let's start by returning to the actual underlying reactions:\n",
    "$$\n",
    "\\begin{aligned}\n",
    "[DNA]&\\xrightarrow{\\beta}[DNA]+X\\\\\n",
    "X&\\xrightarrow{\\alpha} \\varnothing\n",
    "\\end{aligned}\\tag{11}\n",
    "$$"
   ]
  },
  {
   "attachments": {},
   "cell_type": "markdown",
   "id": "5db688c7",
   "metadata": {},
   "source": [
    "1\\. Consider a system that has $x_0=3$ at time $t=0$. What is the probability that the system will transition to the state $x=2$ during the next transition? (i.e., what is the probability that degradation occurs before transcription?)"
   ]
  },
  {
   "attachments": {},
   "cell_type": "markdown",
   "id": "ee5c6793",
   "metadata": {},
   "source": [
    "***Proof.*** For a chemical reaction occurring at rate $r$, the distribution of waiting times $\\tau$ between successive reactions is given by (1), and the probability that a reaction does not occur for $t<\\tau$ is given by\n",
    "$$\n",
    "Q(\\tau)=e^{-r\\tau}\\tag{12}\n",
    "$$\n",
    "hence the probability that the system will transition to the state $x=2$ during the next transition is given by\n",
    "$$\n",
    "\\begin{aligned}\n",
    "\\int_{0}^{\\infty}p(\\tau)Q(\\tau)d\\tau=\\int_{0}^{\\infty}\\alpha x_0 e^{-\\alpha x_0\\tau}e^{-\\beta\\tau}d\\tau=\\frac{\\alpha x_0}{\\alpha x_0+\\beta}=\\frac{3}{5}\n",
    "\\end{aligned}\\tag{13}\n",
    "$$"
   ]
  },
  {
   "attachments": {},
   "cell_type": "markdown",
   "id": "fa7f6464",
   "metadata": {},
   "source": [
    "2\\. Which aspect of the stochastic process does the deterministic differential equation describe successfully?"
   ]
  },
  {
   "attachments": {},
   "cell_type": "markdown",
   "id": "586f97b1",
   "metadata": {},
   "source": [
    "***Proof.*** The deterministic differential equation describes the mean value of the stochastic process successfully."
   ]
  },
  {
   "attachments": {},
   "cell_type": "markdown",
   "id": "aaf7b349",
   "metadata": {},
   "source": [
    "c. Let's consider how to perform stochastic simulations of chemical reactions. A rather inefficient (and potentially inaccurate) method to perform the stochastic simulation is by determining what process takes place during infinitesimal time intervals $dt$. Say the system starts at the state $x_0=3$. The simulation examines what happens during the first \"infinitesimal\" time interval $dt=10^{-10}$. The probability of degradation is $p_{deg}=\\alpha x\\times 10^{-10}=9\\times 10^{-10}$ while the probability of transcription is $p_{trans}=\\beta\\times 10^{-10}=6\\times 10^{-10}$. A random number $m$ is drawn from a uniform distribution between $0$ and $1$. What happens next depends on the value of $m$ as follows:\n",
    "\n",
    "1. If $m<p_{deg}\\rightarrow$ one molecule of $x$ is degraded, reaction rates are updated and the simulation proceeds to the next time step.\n",
    "2. If $p_{deg}<m<p_{deg}+p_{trans}\\rightarrow$ one molecule of is transcribed, reaction rates are updated and the simulation proceeds to the next time step.\n",
    "3. If $p_{deg}+p_{trans}<m\\rightarrow$ nothing happens and the simulation proceeds to the next time step.\n",
    "\n",
    "A better way to approach the simulation is using Gillespie's \"first-reaction\" method. This method is *much* more efficient and is analytically exact. The main idea is to determine which of the two competing processes (degradation or transcription) takes place first and at what time it occurs. Gillespie shows that you can do it in the following manner: for each process ($i$) generate a waiting time ($\\tau_i$) from the probability distribution ($P_i(\\tau_i)$) $P_i(\\tau_i)=k_i\\exp{(-k_i\\tau_i)}$: The process that occurs first is the one with the shorter waiting time. The time at which it occurs is just the waiting time.\n",
    "\n",
    "Sketch an algorithm for simulating stochastic reactions using Gillespie's method. In this case we are dealing with only one species, the output of a simulation run should be the number of molecule at different time points."
   ]
  },
  {
   "attachments": {},
   "cell_type": "markdown",
   "id": "c297ff17",
   "metadata": {},
   "source": [
    "***Proof.*** The algorithm for simulating stochastic reactions using Gillespie's method is as follows:\n",
    "1. Initialize the system with $x=x_0$, $t=0$.\n",
    "2. Calculate the reaction rates $a_1=\\alpha x$, $a_2=\\beta$ and $a_0=a_1+a_2=\\alpha x+\\beta$.\n",
    "3. Generate $r_1\\sim U[0,1]$, $r_2\\sim U[0,1]$.\n",
    "4. Calculate the waiting times $\\tau=-\\frac{1}{a_0}\\ln{r_1}$.\n",
    "5. If $r_2< \\frac{a_1}{a_0}$, $x=x-1$; else $x=x+1$.\n",
    "6. Update $t=t+\\tau$. If $t>t_{max}$, stop; else go to step 2.\n"
   ]
  },
  {
   "attachments": {},
   "cell_type": "markdown",
   "id": "6c3f5f60",
   "metadata": {},
   "source": [
    "d. ```COMPUTATION``` Now consider the following two systems:\n",
    "\n",
    "System A: a system in which protein X is expressed constitutively. In a deterministic setting, the concentration of X would evolve according to\n",
    "$$\n",
    "\\frac{dx}{dt} = A - \\gamma x\\tag{14}\n",
    "$$\n",
    "\n",
    "System B: a system in which protein X represses its own synthesis. In a deterministic setting, it would evolve according to\n",
    "$$\n",
    "\\frac{dx}{dt} = B\\frac{K}{K+x} - \\gamma x\\tag{15}\n",
    "$$\n",
    "\n",
    "<img src=\"2.png\" alt=\"png\" style=\"zoom:75%;\" />"
   ]
  },
  {
   "attachments": {},
   "cell_type": "markdown",
   "id": "abc640e1",
   "metadata": {},
   "source": [
    "1\\. Compute the fixed points of the deterministic systems and their stability."
   ]
  },
  {
   "attachments": {},
   "cell_type": "markdown",
   "id": "1b7c65b0",
   "metadata": {},
   "source": [
    "***Proof.*** For system (A), the fixed point is given by\n",
    "$$\n",
    "x=\\frac{A}{\\gamma}\\tag{16}\n",
    "$$\n",
    "which is a stable fixed point. For system (B), the fixed point is given by\n",
    "$$\n",
    "x=\\frac{\\sqrt{K^2+4BK/\\gamma}-K}{2}\\tag{17}\n",
    "$$\n",
    "which is also a stable fixed point."
   ]
  },
  {
   "attachments": {},
   "cell_type": "markdown",
   "id": "f6e2d165",
   "metadata": {},
   "source": [
    "2\\. In the following, we will interpret the reaction rates as probabilities per unit time of an reaction taking place, as we discussed in b) . Based on the algorithm that you sketch in c), implement a discrete stochastic simulation for System A, for both $A=10$ and $A=100$. Without loss of generality, we set $\\gamma=1$. We can also measure volume in units of cell size, thus concentrations are equivalent to molecule numbers."
   ]
  },
  {
   "attachments": {},
   "cell_type": "markdown",
   "id": "78d4222c",
   "metadata": {},
   "source": [
    "i. Plot a time series of your simulation results. Compare it to the numerical solution of the corresponding differential equation."
   ]
  },
  {
   "attachments": {},
   "cell_type": "markdown",
   "metadata": {},
   "source": [
    "***Proof.*** The numerical solution of the differential equation is \n",
    "$$\n",
    "x(t) = \\frac{A}{\\gamma}+\\Big(x_0-\\frac{A}{\\gamma}\\Big)e^{-\\gamma t}\\tag{18}\n",
    "$$\n",
    "The python implementation of the Gillespie's method is as follows. We set $x_0=0$ without loss of generality."
   ]
  },
  {
   "cell_type": "code",
   "execution_count": 18,
   "id": "71308e7d",
   "metadata": {},
   "outputs": [
    {
     "data": {
      "image/png": "[encoded data removed]",
      "text/plain": [
       "<Figure size 864x360 with 2 Axes>"
      ]
     },
     "metadata": {
      "needs_background": "light"
     },
     "output_type": "display_data"
    }
   ],
   "source": [
    "import numpy as np\n",
    "import matplotlib.pyplot as plt\n",
    "\n",
    "\n",
    "def x_sol(t, A=10, gamma=1):\n",
    "    \"\"\"\n",
    "    Numerical solution of the ODE\n",
    "    \"\"\"\n",
    "    return A/gamma - (A/gamma)*np.exp(-gamma*t)\n",
    "\n",
    "\n",
    "def Gillespie(A=10, t_0=0, x_0=0, gamma=1, t_max=30):\n",
    "    \"\"\"\n",
    "    Implementation of Gillespie's method\n",
    "    \"\"\"\n",
    "    t = t_0\n",
    "    x = x_0\n",
    "    t_list = [t_0]\n",
    "    x_list = [x_0]\n",
    "\n",
    "    while t <= t_max:\n",
    "        a_1 = gamma * x\n",
    "        a_2 = A\n",
    "        a_0 = a_1 + a_2\n",
    "\n",
    "        r_1, r_2 = np.random.random(2)\n",
    "        tau = - np.log(r_1) / a_0\n",
    "        t += tau\n",
    "\n",
    "        if r_2 < a_1 / a_0:\n",
    "            x -= 1\n",
    "        else:\n",
    "            x += 1\n",
    "        \n",
    "        x_list.append(x)\n",
    "        t_list.append(t)\n",
    "\n",
    "    return np.array(t_list), np.array(x_list)\n",
    "\n",
    "\n",
    "fig, (ax1, ax2) = plt.subplots(1, 2)\n",
    "plt.rcParams.update({\n",
    "    \"text.usetex\": True\n",
    "})\n",
    "t_max = 30\n",
    "\n",
    "for ax, A in zip([ax1, ax2], [10, 100]):\n",
    "    t_list, x_list = Gillespie(A=A, t_max=t_max)\n",
    "    ax.plot(t_list, x_list, label='$\\\\rm Simulation$')\n",
    "    ax.plot(t_list, x_sol(t_list, A=A), label='$\\\\rm Numerical$')\n",
    "    ax.set_xlabel('$t$')\n",
    "    ax.set_ylabel('$x$')\n",
    "    ax.set_title(f'$A = {A}$')\n",
    "    ax.legend()\n",
    "\n",
    "fig.set_size_inches(12, 5)\n",
    "plt.savefig('2-d-1.jpg', dpi=1000, bbox_inches='tight')\n",
    "plt.show()"
   ]
  },
  {
   "attachments": {},
   "cell_type": "markdown",
   "id": "0e7fc669",
   "metadata": {},
   "source": [
    "We can see that the simulation results are consistent with the numerical solution of the differential equation, though fluctuations are observed in the simulation results."
   ]
  },
  {
   "attachments": {},
   "cell_type": "markdown",
   "id": "9ae99d37",
   "metadata": {},
   "source": [
    "ii. Run the system for a long enough time so that it has reached a steady state. Plot a histogram of $x$. Verify that the variance and mean of the steady state distribution are consistent with Poisson statistics."
   ]
  },
  {
   "attachments": {},
   "cell_type": "markdown",
   "id": "17f65b1a",
   "metadata": {},
   "source": [
    "***Proof.*** The python implementation is as follows."
   ]
  },
  {
   "cell_type": "code",
   "execution_count": 38,
   "id": "81770908",
   "metadata": {},
   "outputs": [
    {
     "data": {
      "image/png": "[encoded data removed]",
      "text/plain": [
       "<Figure size 576x432 with 1 Axes>"
      ]
     },
     "metadata": {
      "needs_background": "light"
     },
     "output_type": "display_data"
    },
    {
     "name": "stdout",
     "output_type": "stream",
     "text": [
      "Mean: 10.51368109448756; Var: 10.29200286952364\n"
     ]
    }
   ],
   "source": [
    "from scipy.stats import poisson\n",
    "\n",
    "_, x_list = Gillespie(A=10, t_max=1e4)\n",
    "x_list = x_list[len(x_list)//4:]\n",
    "\n",
    "fig, ax = plt.subplots()\n",
    "plt.rcParams.update({\n",
    "    \"text.usetex\": True\n",
    "})\n",
    "ax.hist(x_list, bins=25, density=True, edgecolor='white', label='$\\\\rm Simulation$')\n",
    "ax.plot(np.arange(0, 25), poisson.pmf(np.arange(0, 25), mu=10), label='$\\\\rm Poisson\\, Distribution$')\n",
    "ax.set_xlabel('$x$')\n",
    "ax.set_ylabel('$P(x)$')\n",
    "ax.legend()\n",
    "\n",
    "fig.set_size_inches(8, 6)\n",
    "plt.savefig('2-d-2.jpg', dpi=1000, bbox_inches='tight')\n",
    "plt.show()\n",
    "\n",
    "print(f'Mean: {np.mean(x_list, axis=0)}; Var: {np.var(x_list, axis=0)}')"
   ]
  },
  {
   "attachments": {},
   "cell_type": "markdown",
   "id": "f107e1ac",
   "metadata": {},
   "source": [
    "We can see that the variance and mean of the steady state distribution are consistent with Poisson statistics *i.e.* \n",
    "$$\n",
    "E(x)=Var(x)=\\frac{A}{\\gamma}=10\\tag{19}\n",
    "$$"
   ]
  },
  {
   "attachments": {},
   "cell_type": "markdown",
   "id": "fe6c219f",
   "metadata": {},
   "source": [
    "3\\. For System B, set $K=100$ and choose B such that $\\langle x\\rangle =100$ is a steady state. Implement a discrete stochastic simulation to demonstrate that the variance of the auto-regulatory system is lower than that of the constitutive system given the same mean."
   ]
  },
  {
   "attachments": {},
   "cell_type": "markdown",
   "id": "26174057",
   "metadata": {},
   "source": [
    "***Proof.*** We set $K=100$, $B=200$, $\\gamma=1$ so that $\\langle x\\rangle =100$ is a steady state. The python implementation is as follows."
   ]
  },
  {
   "cell_type": "code",
   "execution_count": 51,
   "id": "d06d3589",
   "metadata": {},
   "outputs": [
    {
     "data": {
      "image/png": "[encoded data removed]",
      "text/plain": [
       "<Figure size 432x360 with 1 Axes>"
      ]
     },
     "metadata": {
      "needs_background": "light"
     },
     "output_type": "display_data"
    }
   ],
   "source": [
    "def Gillespie_B(K=100, B=200, t_0=0, x_0=0, gamma=1, t_max=30):\n",
    "    \"\"\"\n",
    "    Implementation of Gillespie's method\n",
    "    \"\"\"\n",
    "    t = t_0\n",
    "    x = x_0\n",
    "    t_list = [t_0]\n",
    "    x_list = [x_0]\n",
    "\n",
    "    while t <= t_max:\n",
    "        a_1 = gamma * x\n",
    "        a_2 = B * K / (K + x)\n",
    "        a_0 = a_1 + a_2\n",
    "\n",
    "        r_1, r_2 = np.random.random(2)\n",
    "        tau = - np.log(r_1) / a_0\n",
    "        t += tau\n",
    "\n",
    "        if r_2 < a_1 / a_0:\n",
    "            x -= 1\n",
    "        else:\n",
    "            x += 1\n",
    "        \n",
    "        x_list.append(x)\n",
    "        t_list.append(t)\n",
    "\n",
    "    return np.array(t_list), np.array(x_list)\n",
    "\n",
    "\n",
    "fig, ax = plt.subplots()\n",
    "plt.rcParams.update({\n",
    "    \"text.usetex\": True\n",
    "})\n",
    "t_max = 30\n",
    "\n",
    "t_list, x_list = Gillespie_B(t_max=t_max)\n",
    "ax.plot(t_list, x_list, label='$\\\\rm Simulation$')\n",
    "ax.axhline(y=100,label='$\\\\rm Steady\\,State$', color='tab:orange')\n",
    "ax.set_xlabel('$t$')\n",
    "ax.set_ylabel('$x$')\n",
    "ax.set_title('$B=200,\\,K=100$')\n",
    "ax.legend()\n",
    "\n",
    "fig.set_size_inches(6, 5)\n",
    "plt.savefig('2-d-3.jpg', dpi=1000, bbox_inches='tight')\n",
    "plt.show()"
   ]
  },
  {
   "attachments": {},
   "cell_type": "markdown",
   "id": "7cbe55e9",
   "metadata": {},
   "source": [
    "We can see that the variance of the auto-regulatory system (B) is decreased compared to system (A), suggesting that the auto-regulatory system is more stable."
   ]
  },
  {
   "attachments": {},
   "cell_type": "markdown",
   "id": "56a4f057",
   "metadata": {},
   "source": [
    "## 3. Deterministic and stochastic descriptions of a system with nonlinear degradation"
   ]
  },
  {
   "attachments": {},
   "cell_type": "markdown",
   "id": "e010ddf1",
   "metadata": {},
   "source": [
    "Let's consider a fixed volume system in which a protein X, which is constitutively expressed at a rate $k$, acts as its own degradation enzyme, i.e. once there are enough proteins around, the following irreversible reaction $X+X\\rightarrow X$ can take place with a rate $\\gamma$."
   ]
  },
  {
   "attachments": {},
   "cell_type": "markdown",
   "id": "4b9ce042",
   "metadata": {},
   "source": [
    "a. If there are $n$ proteins, in how many different ways can one enzymatic degradation occur?"
   ]
  },
  {
   "attachments": {},
   "cell_type": "markdown",
   "id": "5f7009df",
   "metadata": {},
   "source": [
    "***Proof.*** There are $C_n^2=\\frac{n(n-1)}{2}$ ways can one enzymatic degradation occur."
   ]
  },
  {
   "attachments": {},
   "cell_type": "markdown",
   "id": "18f7e47e",
   "metadata": {},
   "source": [
    "b. Write the master equation for the process."
   ]
  },
  {
   "attachments": {},
   "cell_type": "markdown",
   "id": "fe5fcba3",
   "metadata": {},
   "source": [
    "***Proof.*** The master equation for the process is\n",
    "$$\n",
    "\\frac{dP_n}{dt} = -\\Big(k+\\gamma\\frac{n(n-1)}{2}\\Big)P_n+kP_{n-1}+\\gamma\\frac{n(n+1)}{2}P_{n+1}\\tag{20}\n",
    "$$"
   ]
  },
  {
   "attachments": {},
   "cell_type": "markdown",
   "id": "5b8fb6e6",
   "metadata": {},
   "source": [
    "c. Write an equation for $\\frac{d\\langle n \\rangle}{dt}$ in terms of the mean $\\langle n\\rangle$ and the variance $V=\\langle n^2 \\rangle-\\langle n \\rangle^2$. Note that in this case the variance will not go away as it did in the cases shown in class where reaction terms were linear."
   ]
  },
  {
   "attachments": {},
   "cell_type": "markdown",
   "id": "c2c71267",
   "metadata": {},
   "source": [
    "***Proof.*** Consider that\n",
    "$$\n",
    "\\langle n \\rangle = \\sum_{n=0}^{\\infty}nP_n\\tag{21}\n",
    "$$\n",
    "we have\n",
    "$$\n",
    "\\begin{aligned}\n",
    "\\frac{d\\langle n \\rangle}{dt}&=\\sum_{n=0}^{\\infty}n\\frac{dP_n}{dt}\\\\\n",
    "&=-\\sum_{n=0}^{\\infty}n\\Big(\\Big(k+\\gamma\\frac{n(n-1)}{2}\\Big)P_n-kP_{n-1}-\\gamma\\frac{n(n+1)}{2}P_{n+1}\\Big)\\\\\n",
    "&=-k\\sum_{n=0}^{\\infty}nP_n-\\frac{\\gamma}{2}\\sum_{n=0}^{\\infty}n^2(n-1)P_{n}+k\\sum_{n=0}^{\\infty}nP_{n-1}+\\frac{\\gamma}{2}\\sum_{n=0}^{\\infty}n^2(n+1)P_{n+1}\\\\\n",
    "&=k-\\frac{\\gamma}{2}\\sum_{n=0}^{\\infty}n(n-1)P_n\\\\\n",
    "&=k-\\frac{\\gamma}{2}\\Big(V+\\langle n \\rangle^2-\\langle n \\rangle\\Big)\n",
    "\\end{aligned}\\tag{22}\n",
    "$$"
   ]
  },
  {
   "attachments": {},
   "cell_type": "markdown",
   "id": "93899e9a",
   "metadata": {},
   "source": [
    "d. Write the differential equation for the corresponding deterministic system."
   ]
  },
  {
   "attachments": {},
   "cell_type": "markdown",
   "id": "cd7f7d1e",
   "metadata": {},
   "source": [
    "***Proof.*** With $V=0$, the differential equation for the corresponding deterministic system is\n",
    "$$\n",
    "\\frac{dX}{dt}=k-\\frac{\\gamma}{2}\\Big(X^2-X\\Big)\\tag{23}\n",
    "$$"
   ]
  },
  {
   "attachments": {},
   "cell_type": "markdown",
   "id": "ca7a0eb6",
   "metadata": {},
   "source": [
    "e. Assuming that the variance of the steady state distribution is known, what conditions on the variance will ensure that the steady state mean is similar to the prediction of the deterministic system?"
   ]
  },
  {
   "attachments": {},
   "cell_type": "markdown",
   "id": "c812df65",
   "metadata": {},
   "source": [
    "***Proof.*** The steady state of the deterministic system is given by\n",
    "$$\n",
    "X = \\frac{1+\\sqrt{1+8k/\\gamma}}{2}\\tag{24}\n",
    "$$\n",
    "The steady state mean of the stochastic system is given by\n",
    "$$\n",
    "\\langle n \\rangle = \\frac{1+\\sqrt{1+8k/\\gamma-4V}}{2}\\tag{25}\n",
    "$$\n",
    "hence to ensure that the steady state mean is similar to the prediction of the deterministic system, we need\n",
    "$$\n",
    "V\\ll \\max\\Big(\\frac{1}{4},\\frac{2k}{\\gamma}\\Big)\\tag{26}\n",
    "$$"
   ]
  }
 ],
 "metadata": {
  "kernelspec": {
   "display_name": "ProteinDesign",
   "language": "python",
   "name": "python3"
  },
  "language_info": {
   "codemirror_mode": {
    "name": "ipython",
    "version": 3
   },
   "file_extension": ".py",
   "mimetype": "text/x-python",
   "name": "python",
   "nbconvert_exporter": "python",
   "pygments_lexer": "ipython3",
   "version": "3.7.12"
  },
  "latex_envs": {
   "LaTeX_envs_menu_present": true,
   "autoclose": false,
   "autocomplete": false,
   "bibliofile": "biblio.bib",
   "cite_by": "apalike",
   "current_citInitial": 1,
   "eqLabelWithNumbers": true,
   "eqNumInitial": 1,
   "hotkeys": {
    "equation": "Ctrl-E",
    "itemize": "Ctrl-I"
   },
   "labels_anchors": false,
   "latex_user_defs": false,
   "report_style_numbering": false,
   "user_envs_cfg": false
  },
  "vscode": {
   "interpreter": {
    "hash": "bafef71ca89fdd3ca528d3a5709357ad0194c247cd708d93328d24c6db863ff6"
   }
  }
 },
 "nbformat": 4,
 "nbformat_minor": 5
}
