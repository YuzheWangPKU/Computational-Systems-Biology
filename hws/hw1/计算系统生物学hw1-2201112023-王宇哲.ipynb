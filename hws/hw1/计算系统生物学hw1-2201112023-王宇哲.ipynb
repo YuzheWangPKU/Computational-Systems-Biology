{
 "cells": [
  {
   "attachments": {},
   "cell_type": "markdown",
   "metadata": {},
   "source": [
    "# <center>Computational Systems Biology, Homework 1\n",
    "<center>王宇哲 2201112023\n",
    "<center>Academy for Advanced Interdisciplinary Studies, Peking University"
   ]
  },
  {
   "attachments": {},
   "cell_type": "markdown",
   "metadata": {},
   "source": [
    "## 1. Transcription and Translation"
   ]
  },
  {
   "attachments": {},
   "cell_type": "markdown",
   "id": "80b94f2d",
   "metadata": {},
   "source": [
    "Consider the following set of reactions describing the process of making a protein out of a gene:\n",
    "$$\n",
    "\\begin{aligned}\n",
    "G & \\xrightarrow{\\beta_g} G + M \\\\\n",
    "M &\\xrightarrow{\\alpha_m} \\varnothing \\\\\n",
    "M &\\xrightarrow{\\beta_m} M + X \\\\\n",
    "X + S & \\xrightleftharpoons[k_{1-}]{k_{1+}} X_S \\\\\n",
    "X_S & \\xrightleftharpoons[k_{2-}]{k_{2+}} X^{*}_{S} \\\\\n",
    "\\end{aligned}\n",
    "$$\n",
    "Here, $G$ is the gene coding for protein $X$, $M$ is the mRNA transcribed from $G$. $S$ is a signaling molecule. $X_S$ is the protein $X$ bound by the signaling molecule. $X^{*}_S$ is the active form of the protein $X$."
   ]
  },
  {
   "attachments": {},
   "cell_type": "markdown",
   "metadata": {},
   "source": [
    "a. For each reaction, explain which step it describes. "
   ]
  },
  {
   "attachments": {},
   "cell_type": "markdown",
   "id": "3eb55389",
   "metadata": {},
   "source": [
    "The reaction $G  \\xrightarrow{\\beta_g} G + M$ describes the transcription of mRNA from the gene $G$.\n",
    "\n",
    "The reaction $M \\xrightarrow{\\alpha_m} \\varnothing$ describes the degradation of mRNA $M$.\n",
    "\n",
    "The reaction $M \\xrightarrow{\\beta_m} M + X $ describes the translation of protein $X$ from mRNA $M$.\n",
    "\n",
    "The reaction $X + S  \\xrightleftharpoons[k_{1-}]{k_{1+}} X_S $ describes the binding of signaling molecule $S$ to protein $X$.\n",
    "\n",
    "The reaction $X_S  \\xrightleftharpoons[k_{2-}]{k_{2+}} X^{*}_{S}$ describes the activation of protein $X$ by signaling molecule $S$.\n"
   ]
  },
  {
   "attachments": {},
   "cell_type": "markdown",
   "id": "e57d7978",
   "metadata": {},
   "source": [
    "b. Write the differential equations that describe the time evolution of $G$, $M$ and $X$. (Don't forget to include the gene concentration in your quations.)"
   ]
  },
  {
   "attachments": {},
   "cell_type": "markdown",
   "id": "60ae4303",
   "metadata": {},
   "source": [
    "The differential equations that describe the time evolution of $G$, $M$ and $X$ are:\n",
    "$$\n",
    "\\begin{aligned}\n",
    "\\frac{d[G]}{dt} &= -\\beta_g[G] \\\\\n",
    "\\frac{d[M]}{dt} &= \\beta_g[G] - \\alpha_m[M] - \\beta_m[M] \\\\\n",
    "\\frac{d[X]}{dt} &= \\beta_m[M] - k_{1+}[X][S] + k_{1-}[X_S] - k_{2+}[X_S][S] + k_{2-}[X^{*}_{S}]\n",
    "\\end{aligned}\n",
    "$$"
   ]
  },
  {
   "attachments": {},
   "cell_type": "markdown",
   "id": "8d27ac23",
   "metadata": {},
   "source": [
    "c. To the best of your ability, indicate the typical time scales of each reaction both in bacteria and in mammalian cells using table 2.1 in Uri Alon's book.\n",
    "\n",
    "<img src=\"Table2_1.jpg\" alt=\"jpg\" style=\"zoom:20%;\" />"
   ]
  },
  {
   "cell_type": "markdown",
   "id": "8aa874af",
   "metadata": {},
   "source": []
  },
  {
   "attachments": {},
   "cell_type": "markdown",
   "id": "3a0a617f",
   "metadata": {},
   "source": [
    "d. Suppose that transcription of the gene $G$ only occurs when its promoter is bound by the active form of the protein. In this case, the first reaction is no longer valid. Write the set of reactions describing promoter binding and gene transcription."
   ]
  },
  {
   "attachments": {},
   "cell_type": "markdown",
   "id": "618b75a3",
   "metadata": {},
   "source": [
    "## 2. Dilution of Proteins Due to Cell Growth"
   ]
  },
  {
   "attachments": {},
   "cell_type": "markdown",
   "id": "c8b4f265",
   "metadata": {},
   "source": [
    "A single bacterial cell at time $t=0$ has volume $V_0$. After a time interval $T_D$, the doubling time, the cell grows and divides into two cells, each of volume $V_0$; after another interval $T_D$, there are four cells, and so on."
   ]
  },
  {
   "attachments": {},
   "cell_type": "markdown",
   "id": "7a69ca51",
   "metadata": {},
   "source": [
    "a. Show that the combined volume of cells at time $t$ may be written as $V(t)=V_0 e^{\\gamma t}$. Find $\\gamma$ in terms of $T_D$."
   ]
  },
  {
   "attachments": {},
   "cell_type": "markdown",
   "id": "2c7ec782",
   "metadata": {},
   "source": [
    "b. The protein $X$ is created at some rate $k(t)$, so the total number of molecules of $X$ satisfies $\\frac{dn}{dt}=k(t)$. Show that the concentration $[X]=\\frac{n}{V}$ satisfies $\\frac{d[X]}{dt}=\\frac{k(t)}{V(t)}-\\gamma [X]$. Discuss the origin of the decay term."
   ]
  },
  {
   "attachments": {},
   "cell_type": "markdown",
   "id": "a7503ba7",
   "metadata": {},
   "source": [
    "c. In addition to the term derived in (b), there should be an extra term that takes into account the degradation of proteins by proteinases, which we can model by the effective reaction $X\\xrightarrow{\\delta}\\varnothing$. Modify the equation in part (b) to include protein degradation, and work out the steady-state protein concentration. This allows estimation of the steady-state concentration if the protein production and degradation rates, cell volume and cell doubling time are known."
   ]
  },
  {
   "attachments": {},
   "cell_type": "markdown",
   "id": "ccd30d4d",
   "metadata": {},
   "source": [
    "d. The model you arrived at in (b) can be applied to mRNA as well. Search the literature for the doubling time of your favorite single cell organism (or cell type of multi-cellular organisms), and also find the creation and degradation rate of your favorite protein and mRNA in that organism or cell type. Work out the steady state protein and mRNA concentration. Give references."
   ]
  },
  {
   "attachments": {},
   "cell_type": "markdown",
   "id": "974e7529",
   "metadata": {},
   "source": [
    "## 3. Binding Kinetics, Detailed Balance and Cooperation"
   ]
  },
  {
   "attachments": {},
   "cell_type": "markdown",
   "id": "f708a1ed",
   "metadata": {},
   "source": [
    "Consider a DNA segment $D$ containing two sites, A and B, to which the protein $X$ can bind in any order."
   ]
  },
  {
   "attachments": {},
   "cell_type": "markdown",
   "id": "2e62a8a8",
   "metadata": {},
   "source": [
    "a. In the figure, the $K_i$ represent dissociation constants in units of concentrations. According to detailed balance, the individual binding reactions are in equilibrium. Find two different expressions for the equilibrium ratio $\\frac{[DX_A X_B]}{[D][X]^2}$, corresponding to the two possible binding paths. Can all four dissociation constants be independently specified?"
   ]
  },
  {
   "attachments": {},
   "cell_type": "markdown",
   "id": "32044686",
   "metadata": {},
   "source": [
    "b. The total DNA concentration is $[D_{tot}]=[D]+[DX_A]+[DX_B]+[DX_AX_B]$. If $K_1 \\gg K_2$ and $K_3\\gg K_4$, show that the singly-bound forms $[DX_A]$ and $[DX_B]$ form a negligible fraction of this total. This corresponds to a cooperative system in which the second binding is highly encouraged once the first has already occurred."
   ]
  },
  {
   "attachments": {},
   "cell_type": "markdown",
   "id": "dd901f5d",
   "metadata": {},
   "source": [
    "c. Find the bound fraction $f=\\frac{[DX_AX_B]}{[D_{tot}]}$ in terms of $[X]$ and the dissociation constants under the approximation of high cooperativity ($K_1\\gg K_2$ and $K_3\\gg K_4$). Sketch $f$ as a function of $[X]$ and indicate features that you find compelling, especially when comparing to a noncooperative interaction. (Make sure your result makes sense — there's a reason why a **cooperative** system is called as such.)"
   ]
  },
  {
   "attachments": {},
   "cell_type": "markdown",
   "id": "bc6b76c6",
   "metadata": {},
   "source": [
    "## 4. Michaelis-Menten Kinetics"
   ]
  },
  {
   "attachments": {},
   "cell_type": "markdown",
   "id": "60df9ea5",
   "metadata": {},
   "source": [
    "### 4.1 Paper and pencil calculations"
   ]
  },
  {
   "attachments": {},
   "cell_type": "markdown",
   "id": "30f44730",
   "metadata": {},
   "source": [
    "Consider the reaction \n",
    "$$\n",
    "E + S \\xrightleftharpoons[k_{1-}]{k_{1+}} ES \\xrightarrow{k_{2}} E + P\n",
    "$$\n",
    "Assume initial concentrations $[E]=0.01$, $[S]=1$, $[ES]=0$, $[P]=0$, and reaction rates $k_{1+}=1$, $k_{1-}=0.1$, $k_{2}=0.001$."
   ]
  },
  {
   "attachments": {},
   "cell_type": "markdown",
   "id": "53428920",
   "metadata": {},
   "source": [
    "a. Ignoring the second reaction ($k_{1+},\\, k_{1-} \\gg k_2$), calculate the quasi-equilibrium concentration of $ES$."
   ]
  },
  {
   "attachments": {},
   "cell_type": "markdown",
   "id": "c069966a",
   "metadata": {},
   "source": [
    "b. When do you expect to see the first reaction, $E+S \\xrightleftharpoons[k_{1-}]{k_{1+}} ES$, reach quasi-equilibrium?"
   ]
  },
  {
   "attachments": {},
   "cell_type": "markdown",
   "id": "97f9a2c5",
   "metadata": {},
   "source": [
    "c. At what time is the substrate concentration depleted to half of its initial value?"
   ]
  },
  {
   "attachments": {},
   "cell_type": "markdown",
   "id": "f100b12a",
   "metadata": {},
   "source": [
    "### 4.2 ```COMPUTATION``` Simulations"
   ]
  },
  {
   "attachments": {},
   "cell_type": "markdown",
   "id": "b6b169b5",
   "metadata": {},
   "source": [
    "Simulate the reaction in (a) using the initial concentrations provided. From the simulation data:"
   ]
  },
  {
   "attachments": {},
   "cell_type": "markdown",
   "id": "a99861ca",
   "metadata": {},
   "source": [
    "a. Plot the behavior of $[E]$, $[S]$, $[ES]$ and $[P]$ vs. time from time $t_0=0$ until time $t_f=5$."
   ]
  },
  {
   "attachments": {},
   "cell_type": "markdown",
   "id": "d0f1af43",
   "metadata": {},
   "source": [
    "b. Plot the behavior of $[E]$, $[S]$, $[ES]$ and $[P]$ vs. time from time $t_0=0$ until time $t_f=100,000$."
   ]
  },
  {
   "attachments": {},
   "cell_type": "markdown",
   "id": "51dcec56",
   "metadata": {},
   "source": [
    "c. Plot the rate of production of $P$ vs. the concentration of $[S]$ from time $t_0=0$ until time $t_f=100,000$."
   ]
  },
  {
   "attachments": {},
   "cell_type": "markdown",
   "id": "3781fba2",
   "metadata": {},
   "source": [
    "d. Do these plots agree with your calculations from part (a)?"
   ]
  },
  {
   "attachments": {},
   "cell_type": "markdown",
   "id": "e09ddd9a",
   "metadata": {},
   "source": [
    "Now, use the Michaelis-Menten equation to plot the expected rate of production of $[P]$ vs. the concentration of $[S]$. What causes the deviation of the simulation data from the Michaelis-Menten equation at substrate concentrations close to the initial concentration?"
   ]
  },
  {
   "attachments": {},
   "cell_type": "markdown",
   "id": "ab7ff4d4",
   "metadata": {},
   "source": [
    "### 4.3 ```COMPUTATION``` Fitting data"
   ]
  },
  {
   "attachments": {},
   "cell_type": "markdown",
   "id": "697ad09a",
   "metadata": {},
   "source": [
    "|  $V$ (rate of production of $[P]$)   | $S$ (concentratlon of substrate $[S]$)  |\n",
    "|  ----  | ----  |\n",
    "|0.15 |0.10|\n",
    "|0.34 |0.15|\n",
    "|0.35 |0.19|\n",
    "|0.42| 0.24|\n",
    "|0.48 |0.29|\n",
    "|0.60| 0.34|\n",
    "|0.52| 0.38|\n",
    "|0.63| 0.43|\n",
    "|0.63| 0.48|\n",
    "|0.63| 0.53|\n",
    "|0.60| 0.57|\n",
    "|0.66| 0.62|\n",
    "|0.69| 0.67|\n",
    "|0.63| 0.72|\n",
    "|0.73| 0.76|\n",
    "|0.69| 0.81|\n",
    "|0.74| 0.86|\n",
    "|0.77| 0.91|\n",
    "|0.72| 0.95|\n",
    "|0.75| 1.00|"
   ]
  },
  {
   "attachments": {},
   "cell_type": "markdown",
   "id": "96a1aaef",
   "metadata": {},
   "source": [
    "The two vectors listed in Table 1 correspond to 20 \"experimental\" measurements of the rate of production of $[P]$ (vector $V=\\frac{d[P]}{dt}$) and the concentration of substrate $[S]$ (vector $S$) respectively."
   ]
  },
  {
   "attachments": {},
   "cell_type": "markdown",
   "id": "abba1d07",
   "metadata": {},
   "source": [
    "a. The Michaelis-Menten equation says $V=V_{max}\\frac{S}{K_m +S}$. Express $V_{max}$ and $K_m$ explicitly in terms of the reaction rates and the concentrations specified in 4.1."
   ]
  },
  {
   "attachments": {},
   "cell_type": "markdown",
   "id": "f4198fbc",
   "metadata": {},
   "source": [
    "b. Plot the data and fit them to the Michaelis-Menten equation for estimates of $V_{max}$ and $K_m$. Plot the fitted curve on the same graph."
   ]
  },
  {
   "attachments": {},
   "cell_type": "markdown",
   "id": "99aae8e1",
   "metadata": {},
   "source": [
    "c. We can transform the Michaelis-Menten equation by taking the reciprocal of both sides $\\frac{1}{V}=\\frac{K_m}{V_{max}S}$. This double reciprocal form is called the Lineweaver-Burk equation. Plot the data as $\\frac{1}{V}$ vs. $\\frac{1}{S}$. Fit the data for estimates of $V_{max}$ and $K_m$, and plot the fitted line on the same graph."
   ]
  },
  {
   "attachments": {},
   "cell_type": "markdown",
   "id": "f51913f5",
   "metadata": {},
   "source": [
    "d. Compare the fitted values of $V_{max}$ and $K_m$ given in (b) and (c). Why are they different? Is the difference significant?"
   ]
  },
  {
   "cell_type": "markdown",
   "id": "43b9d569",
   "metadata": {},
   "source": []
  }
 ],
 "metadata": {
  "kernelspec": {
   "display_name": "ProteinDesign",
   "language": "python",
   "name": "python3"
  },
  "language_info": {
   "codemirror_mode": {
    "name": "ipython",
    "version": 3
   },
   "file_extension": ".py",
   "mimetype": "text/x-python",
   "name": "python",
   "nbconvert_exporter": "python",
   "pygments_lexer": "ipython3",
   "version": "3.7.12"
  },
  "latex_envs": {
   "LaTeX_envs_menu_present": true,
   "autoclose": false,
   "autocomplete": false,
   "bibliofile": "biblio.bib",
   "cite_by": "apalike",
   "current_citInitial": 1,
   "eqLabelWithNumbers": true,
   "eqNumInitial": 1,
   "hotkeys": {
    "equation": "Ctrl-E",
    "itemize": "Ctrl-I"
   },
   "labels_anchors": false,
   "latex_user_defs": false,
   "report_style_numbering": false,
   "user_envs_cfg": false
  },
  "vscode": {
   "interpreter": {
    "hash": "bafef71ca89fdd3ca528d3a5709357ad0194c247cd708d93328d24c6db863ff6"
   }
  }
 },
 "nbformat": 4,
 "nbformat_minor": 5
}
