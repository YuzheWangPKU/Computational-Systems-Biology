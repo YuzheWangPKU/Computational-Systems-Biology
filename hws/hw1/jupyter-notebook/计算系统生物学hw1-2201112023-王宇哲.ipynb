{
 "cells": [
  {
   "attachments": {},
   "cell_type": "markdown",
   "metadata": {},
   "source": [
    "# <center>Computational Systems Biology, Homework 1\n",
    "<center>王宇哲 2201112023\n",
    "<center>Academy for Advanced Interdisciplinary Studies, Peking University"
   ]
  },
  {
   "attachments": {},
   "cell_type": "markdown",
   "metadata": {},
   "source": [
    "## 1. Transcription and Translation"
   ]
  },
  {
   "attachments": {},
   "cell_type": "markdown",
   "id": "80b94f2d",
   "metadata": {},
   "source": [
    "Consider the following set of reactions describing the process of making a protein out of a gene:\n",
    "$$\n",
    "\\begin{aligned}\n",
    "G & \\xrightarrow{\\beta_g} G + M \\\\\n",
    "M &\\xrightarrow{\\alpha_m} \\varnothing \\\\\n",
    "M &\\xrightarrow{\\beta_m} M + X \\\\\n",
    "X + S & \\xrightleftharpoons[k_{1-}]{k_{1+}} X_S \\\\\n",
    "X_S & \\xrightleftharpoons[k_{2-}]{k_{2+}} X^{*}_{S} \\\\\n",
    "\\end{aligned}\n",
    "$$\n",
    "Here, $G$ is the gene coding for protein $X$, $M$ is the mRNA transcribed from $G$. $S$ is a signaling molecule. $X_S$ is the protein $X$ bound by the signaling molecule. $X^{*}_S$ is the active form of the protein $X$."
   ]
  },
  {
   "attachments": {},
   "cell_type": "markdown",
   "metadata": {},
   "source": [
    "a. For each reaction, explain which step it describes. "
   ]
  },
  {
   "attachments": {},
   "cell_type": "markdown",
   "id": "3eb55389",
   "metadata": {},
   "source": [
    "The reaction $G  \\xrightarrow{\\beta_g} G + M$ describes the transcription of mRNA from the gene $G$.\n",
    "\n",
    "The reaction $M \\xrightarrow{\\alpha_m} \\varnothing$ describes the degradation of mRNA $M$.\n",
    "\n",
    "The reaction $M \\xrightarrow{\\beta_m} M + X $ describes the translation of protein $X$ from mRNA $M$.\n",
    "\n",
    "The reaction $X + S  \\xrightleftharpoons[k_{1-}]{k_{1+}} X_S $ describes the binding of signaling molecule $S$ to protein $X$.\n",
    "\n",
    "The reaction $X_S  \\xrightleftharpoons[k_{2-}]{k_{2+}} X^{*}_{S}$ describes the activation of protein $X$ by signaling molecule $S$.\n"
   ]
  },
  {
   "attachments": {},
   "cell_type": "markdown",
   "id": "e57d7978",
   "metadata": {},
   "source": [
    "b. Write the differential equations that describe the time evolution of $G$, $M$ and $X$. (Don't forget to include the gene concentration in your quations.)"
   ]
  },
  {
   "attachments": {},
   "cell_type": "markdown",
   "id": "60ae4303",
   "metadata": {},
   "source": [
    "The differential equations that describe the time evolution of $G$, $M$ and $X$ are:\n",
    "$$\n",
    "\\begin{aligned}\n",
    "\\frac{d[G]}{dt} &= -\\beta_g[G] \\\\\n",
    "\\frac{d[M]}{dt} &= \\beta_g[G] - \\alpha_m[M] - \\beta_m[M] \\\\\n",
    "\\frac{d[X]}{dt} &= \\beta_m[M] - k_{1+}[X][S] + k_{1-}[X_S] - k_{2+}[X_S][S] + k_{2-}[X^{*}_{S}]\n",
    "\\end{aligned}\n",
    "$$"
   ]
  },
  {
   "attachments": {},
   "cell_type": "markdown",
   "id": "8d27ac23",
   "metadata": {},
   "source": [
    "c. To the best of your ability, indicate the typical time scales of each reaction both in bacteria and in mammalian cells using table 2.1 in Uri Alon's book.\n",
    "\n",
    "<img src=\"Table2_1.jpg\" alt=\"jpg\" style=\"zoom:20%;\" />"
   ]
  },
  {
   "attachments": {},
   "cell_type": "markdown",
   "id": "8aa874af",
   "metadata": {},
   "source": [
    "From Table 2.1, we can see that the typical time scales of each reaction are:\n",
    "\n",
    "|  Reaction   | Comments |Time scale in bacteria (*E. coli*)  | Time scale in mammalian cells (Human fibroblast) |\n",
    "|  ----  | ----  | ---- | ---- |\n",
    "|$G  \\xrightarrow{\\beta_g} G + M$ | Time to transcribe a gene| $\\sim 1\\,{\\rm min},\\, 80\\,{\\rm bp/s}$ | $\\sim 30\\,{\\rm min}$, including mRNA processing |\n",
    "|$M \\xrightarrow{\\alpha_m} \\varnothing$ |Typical mRNA lifetime| $2\\sim 5\\,{\\rm min}$ | $\\sim 10\\,{\\rm min}$ to over $10\\,{\\rm h}$  |\n",
    "|$M \\xrightarrow{\\beta_m} M + X$ |Time to translate a protein| $\\sim 2\\,{\\rm min},\\,40\\,{\\rm aa/s}$| $\\sim 30\\,{\\rm min}$, including mRNA nuclear export   |\n",
    "|$X + S  \\xrightleftharpoons[k_{1-}]{k_{1+}} X_S$|Equilibrium binding of small molecule to protein|$\\sim 1\\,{\\rm ms}$ ($1\\,{\\rm \\mu M}$ affinity)| $\\sim 1\\,{\\rm s}$ ($1\\,{\\rm nM}$ affinity)|\n",
    "|$X_S  \\xrightleftharpoons[k_{2-}]{k_{2+}} X^{*}_{S}$|Transition between active and inactive protein states|$1\\sim 100\\,{\\rm \\mu s}$|$1\\sim 100\\,{\\rm \\mu s}$|"
   ]
  },
  {
   "attachments": {},
   "cell_type": "markdown",
   "id": "3a0a617f",
   "metadata": {},
   "source": [
    "d. Suppose that transcription of the gene $G$ only occurs when its promoter is bound by the active form of the protein. In this case, the first reaction is no longer valid. Write the set of reactions describing promoter binding and gene transcription."
   ]
  },
  {
   "attachments": {},
   "cell_type": "markdown",
   "id": "96d6a17f",
   "metadata": {},
   "source": [
    "The set of reactions describing promoter binding and gene transcription is ($P$ denotes the promoter):\n",
    "$$\n",
    "\\begin{aligned}\n",
    "X^{*}_{S} + P & \\xrightleftharpoons[k_{3-}]{k_{3+}} X^{*}_{S}P \\\\\n",
    "X^{*}_{S}P & \\xrightarrow{\\beta'_g} X^{*}_{S}P + M \\\\\n",
    "\\end{aligned}\n",
    "$$"
   ]
  },
  {
   "attachments": {},
   "cell_type": "markdown",
   "id": "618b75a3",
   "metadata": {},
   "source": [
    "## 2. Dilution of Proteins Due to Cell Growth"
   ]
  },
  {
   "attachments": {},
   "cell_type": "markdown",
   "id": "c8b4f265",
   "metadata": {},
   "source": [
    "A single bacterial cell at time $t=0$ has volume $V_0$. After a time interval $T_D$, the doubling time, the cell grows and divides into two cells, each of volume $V_0$; after another interval $T_D$, there are four cells, and so on."
   ]
  },
  {
   "attachments": {},
   "cell_type": "markdown",
   "id": "7a69ca51",
   "metadata": {},
   "source": [
    "a. Show that the combined volume of cells at time $t$ may be written as $V(t)=V_0 e^{\\gamma t}$. Find $\\gamma$ in terms of $T_D$."
   ]
  },
  {
   "attachments": {},
   "cell_type": "markdown",
   "id": "a07b894f",
   "metadata": {},
   "source": [
    "***Proof*** The number of cells at time $t$ is \n",
    "$$\n",
    "N(t)=2^{t/T_D}\n",
    "$$\n",
    "hence the total volume of cells at time $t$ is \n",
    "$$\n",
    "V(t)=N(t)V_0=V_0 2^{t/T_D}=V_0 e^{\\gamma t}\n",
    "$$.\n",
    "where \n",
    "$$\\gamma=\\ln2/T_D$$"
   ]
  },
  {
   "attachments": {},
   "cell_type": "markdown",
   "id": "2c7ec782",
   "metadata": {},
   "source": [
    "b. The protein $X$ is created at some rate $k(t)$, so the total number of molecules of $X$ satisfies $\\frac{dn}{dt}=k(t)$. Show that the concentration $[X]=\\frac{n}{V}$ satisfies $\\frac{d[X]}{dt}=\\frac{k(t)}{V(t)}-\\gamma [X]$. Discuss the origin of the decay term."
   ]
  },
  {
   "attachments": {},
   "cell_type": "markdown",
   "id": "ea1340a7",
   "metadata": {},
   "source": [
    "***Proof*** Consider that\n",
    "$$\n",
    "\\begin{aligned}\n",
    "\\frac{d[X]}{dt}&= \\frac{d}{dt}\\left(\\frac{n}{V(t)}\\right)\\\\\n",
    "&=\\frac{1}{V(t)}\\frac{dn}{dt}-\\frac{n}{V(t)^2}\\frac{dV(t)}{dt}\\\\\n",
    "&=\\frac{k(t)}{V(t)}-\\frac{n}{V(t)}\\frac{d\\ln{V(t)}}{dt}\\\\\n",
    "&=\\frac{k(t)}{V(t)}-\\gamma [X]\n",
    "\\end{aligned}\n",
    "$$\n",
    "The origin of the decay term is that the protein $X$ is diluted due to cell growth."
   ]
  },
  {
   "attachments": {},
   "cell_type": "markdown",
   "id": "a7503ba7",
   "metadata": {},
   "source": [
    "c. In addition to the term derived in (b), there should be an extra term that takes into account the degradation of proteins by proteinases, which we can model by the effective reaction $X\\xrightarrow{\\delta}\\varnothing$. Modify the equation in part (b) to include protein degradation, and work out the steady-state protein concentration. This allows estimation of the steady-state concentration if the protein production and degradation rates, cell volume and cell doubling time are known."
   ]
  },
  {
   "attachments": {},
   "cell_type": "markdown",
   "id": "da48d5a1",
   "metadata": {},
   "source": [
    "Include the protein degradation term, the equation in part (b) becomes\n",
    "$$\n",
    "\\frac{d[X]}{dt}=\\frac{k(t)}{V(t)}-(\\gamma +\\delta) [X]\n",
    "$$\n",
    "We set $\\frac{d[X]}{dt}=0$ to get the steady-state protein concentration\n",
    "$$\n",
    "[X]_{ss}=\\frac{k(t)}{(\\gamma +\\delta)V(t)}=\\frac{k(t)e^{-\\gamma t}}{(\\gamma +\\delta)V_0 }\n",
    "$$"
   ]
  },
  {
   "attachments": {},
   "cell_type": "markdown",
   "id": "ccd30d4d",
   "metadata": {},
   "source": [
    "d. The model you arrived at in (b) can be applied to mRNA as well. Search the literature for the doubling time of your favorite single cell organism (or cell type of multi-cellular organisms), and also find the creation and degradation rate of your favorite protein and mRNA in that organism or cell type. Work out the steady state protein and mRNA concentration. Give references."
   ]
  },
  {
   "attachments": {},
   "cell_type": "markdown",
   "id": "23c12041",
   "metadata": {},
   "source": [
    "The model in (c) gives\n",
    "$$\n",
    "[X]_{ss}=\\frac{k(t)}{(\\gamma +\\delta)V(t)}=\\frac{k(t)e^{-\\gamma t}}{(\\gamma +\\delta)V_0 }\n",
    "$$\n",
    "in which \n",
    "$$\n",
    "\\gamma = \\frac{\\ln{2}}{T_D}\n",
    "$$\n",
    "Referred to table 2.1 in Uri Alon's book, for mRNA in *E. coli* (degradation rate of protein unavailable), we have\n",
    "$$\n",
    "\\begin{aligned}\n",
    "V_0&=1\\,{\\rm \\mu m^3}\\\\\n",
    "k_{mRNA}&=60\\, {\\rm s^{-1}}\\\\\n",
    "\\delta_{mRNA}&=210\\,{\\rm s^{-1}}\\ \\ ({\\rm on\\,average})\\\\\n",
    "T_D&=1800\\,{\\rm s}\\ \\ ({\\rm rich\\,medium})\n",
    "\\end{aligned}\n",
    "$$\n",
    "hence we have\n",
    "$$\n",
    "\\gamma = 0.0003851\\,{\\rm s^{-1}}\\\\\n",
    "[mRNA] = \\frac{k_{mRNA}}{(\\gamma+\\delta_{mRNA})V_0}=0.2857\\,{\\rm \\mu m^{-3}}\n",
    "$$"
   ]
  },
  {
   "attachments": {},
   "cell_type": "markdown",
   "id": "974e7529",
   "metadata": {},
   "source": [
    "## 3. Binding Kinetics, Detailed Balance and Cooperation"
   ]
  },
  {
   "attachments": {},
   "cell_type": "markdown",
   "id": "f708a1ed",
   "metadata": {},
   "source": [
    "Consider a DNA segment $D$ containing two sites, A and B, to which the protein $X$ can bind in any order.\n",
    "<img src=\"P3.jpg\" alt=\"jpg\" style=\"zoom:50%;\" />"
   ]
  },
  {
   "attachments": {},
   "cell_type": "markdown",
   "id": "2e62a8a8",
   "metadata": {},
   "source": [
    "a. In the figure, the $K_i$ represent **dissociation** constants in units of concentrations. According to detailed balance, the individual binding reactions are in equilibrium. Find two different expressions for the equilibrium ratio $\\frac{[DX_A X_B]}{[D][X]^2}$, corresponding to the two possible binding paths. Can all four dissociation constants be independently specified?"
   ]
  },
  {
   "attachments": {},
   "cell_type": "markdown",
   "id": "1fdfa925",
   "metadata": {},
   "source": [
    "According to detailed balance, the individual binding reactions are in equilibrium *i.e.*\n",
    "$$\n",
    "\\begin{aligned}\n",
    "K_1 &= \\frac{[D][X]}{[DX_A]}\\\\\n",
    "K_2 &= \\frac{[DX_A][X]}{[DX_AX_B]}\\\\\n",
    "K_3 &= \\frac{[D][X]}{[DX_B]}\\\\\n",
    "K_4 &= \\frac{[DX_B][X]}{[DX_A X_B]}\n",
    "\\end{aligned}\n",
    "$$\n",
    "Hence the equilibrium ratio\n",
    "$$\n",
    "\\frac{[DX_A X_B]}{[D][X]^2}= \\frac{1}{K_1K_2} = \\frac{1}{K_3K_4}\n",
    "$$\n",
    "All four dissociation constants **cannot** be independently specified."
   ]
  },
  {
   "attachments": {},
   "cell_type": "markdown",
   "id": "32044686",
   "metadata": {},
   "source": [
    "b. The total DNA concentration is $[D_{tot}]=[D]+[DX_A]+[DX_B]+[DX_AX_B]$. If $K_1 \\gg K_2$ and $K_3\\gg K_4$, show that the singly-bound forms $[DX_A]$ and $[DX_B]$ form a negligible fraction of this total. This corresponds to a cooperative system in which the second binding is highly encouraged once the first has already occurred."
   ]
  },
  {
   "attachments": {},
   "cell_type": "markdown",
   "id": "5f62b9a0",
   "metadata": {},
   "source": [
    "***Proof*** Consider that\n",
    "$$\n",
    "\\begin{aligned}\n",
    "[DX_A]&=\\frac{[D][X]}{K_1}\\\\\n",
    "[DX_B]&=\\frac{[D][X]}{K_3}\\\\\n",
    "[DX_AX_B]&=\\frac{[D][X]^2}{K_1K_2}\n",
    "\\end{aligned}\n",
    "$$\n",
    "we have\n",
    "$$\n",
    "\\begin{aligned}\n",
    "[D_{tot}]&=[D]+[DX_A]+[DX_B]+[DX_AX_B]\\\\\n",
    "&=[D]+\\frac{[D][X]}{K_1}+\\frac{[D][X]}{K_3}+\\frac{[D][X]^2}{K_1K_2}\\\\\n",
    "&=[D]\\Big(1+\\frac{[X]}{K_1}+\\frac{[X]}{K_3}+\\frac{[X]^2}{K_1K_2}\\Big)\\\\\n",
    "\\end{aligned}\n",
    "$$\n",
    "The fraction\n",
    "$$\n",
    "\\frac{[DX_A]}{[D]+[DX_AX_B]}\\ll 1\\\\\n",
    "\\frac{[DX_B]}{[D]+[DX_AX_B]}\\ll 1\n",
    "$$\n",
    "hence the singly-bound forms $[DX_A]$ and $[DX_B]$ form a negligible fraction of the total."
   ]
  },
  {
   "attachments": {},
   "cell_type": "markdown",
   "id": "dd901f5d",
   "metadata": {},
   "source": [
    "c. Find the bound fraction $f=\\frac{[DX_AX_B]}{[D_{tot}]}$ in terms of $[X]$ and the dissociation constants under the approximation of high cooperativity ($K_1\\gg K_2$ and $K_3\\gg K_4$). Sketch $f$ as a function of $[X]$ and indicate features that you find compelling, especially when comparing to a noncooperative interaction. (Make sure your result makes sense — there's a reason why a **cooperative** system is called as such.)"
   ]
  },
  {
   "attachments": {},
   "cell_type": "markdown",
   "id": "5a373b1b",
   "metadata": {},
   "source": [
    "The bound fraction under the approximation of high cooperativity is\n",
    "$$\n",
    "\\begin{aligned}\n",
    "f&=\\frac{[DX_AX_B]}{[D_{tot}]}\\\\\n",
    "&=\\frac{[X]^2/K_1K_2}{1+[X]/K_1+[X]/K_3+[X]^2/K_1K_2}\\\\\n",
    "&=\\frac{[X]^2K_3}{K_1K_2K_3+[X]K_2(K_1+K_3)+[X]^2K_3}\n",
    "\\end{aligned}\n",
    "$$\n",
    "We sketch $f$ as a function of $[X]$ for high cooperativity and non-cooperativity in the following figure, respectively."
   ]
  },
  {
   "cell_type": "code",
   "execution_count": 70,
   "id": "1fc51af2",
   "metadata": {},
   "outputs": [
    {
     "data": {
      "image/png": "[encoded data removed]",
      "text/plain": [
       "<Figure size 576x432 with 1 Axes>"
      ]
     },
     "metadata": {
      "needs_background": "light"
     },
     "output_type": "display_data"
    }
   ],
   "source": [
    "import numpy as np\n",
    "from matplotlib import pyplot as plt\n",
    "\n",
    "def frac(x, k1, k2, k3):\n",
    "    return (x**2*k3) / (k1*k2*k3 + x*k2*(k1+k3) + x**2*k3)\n",
    "\n",
    "fig, ax = plt.subplots()\n",
    "plt.rcParams.update({\n",
    "    \"text.usetex\": True\n",
    "})\n",
    "\n",
    "x = np.linspace(0.001, 0.1, 100)\n",
    "ax.plot(x, frac(x, 5, 0.0005, 5), label='High Cooperativity')\n",
    "ax.plot(x, frac(x, 0.01, 0.01, 0.01), label='Non-cooperativity')\n",
    "\n",
    "fig.set_size_inches(8,6)\n",
    "plt.xlabel('$[X]$')\n",
    "plt.ylabel('$f$')\n",
    "plt.legend()\n",
    "plt.savefig('3-c.jpg',dpi=1000, bbox_inches='tight')\n",
    "plt.show()"
   ]
  },
  {
   "attachments": {},
   "cell_type": "markdown",
   "id": "a26e249c",
   "metadata": {},
   "source": [
    "We can see from the figure that the bound fraction $f$ is a sigmoidal function of $[X]$ when $K_1\\gg K_2$ and $K_3\\gg K_4$ (high cooperativity)."
   ]
  },
  {
   "attachments": {},
   "cell_type": "markdown",
   "id": "bc6b76c6",
   "metadata": {},
   "source": [
    "## 4. Michaelis-Menten Kinetics"
   ]
  },
  {
   "attachments": {},
   "cell_type": "markdown",
   "id": "60df9ea5",
   "metadata": {},
   "source": [
    "### 4.1 Paper and pencil calculations"
   ]
  },
  {
   "attachments": {},
   "cell_type": "markdown",
   "id": "30f44730",
   "metadata": {},
   "source": [
    "Consider the reaction \n",
    "$$\n",
    "E + S \\xrightleftharpoons[k_{1-}]{k_{1+}} ES \\xrightarrow{k_{2}} E + P\n",
    "$$\n",
    "Assume initial concentrations $[E]=0.01$, $[S]=1$, $[ES]=0$, $[P]=0$, and reaction rates $k_{1+}=1$, $k_{1-}=0.1$, $k_{2}=0.001$."
   ]
  },
  {
   "attachments": {},
   "cell_type": "markdown",
   "id": "53428920",
   "metadata": {},
   "source": [
    "a. Ignoring the second reaction ($k_{1+},\\, k_{1-} \\gg k_2$), calculate the quasi-equilibrium concentration of $ES$."
   ]
  },
  {
   "attachments": {},
   "cell_type": "markdown",
   "id": "decfb959",
   "metadata": {},
   "source": [
    "The quasi-equilibrium concentration of $ES$ ignoring the second reaction is calculated by\n",
    "$$\n",
    "k_{1-}[ES]_{eq}=k_{1+}([E]_0-[ES]_{eq})[S]\\approx k_{1+}([E]_0-[ES]_{eq})[S]_0\n",
    "$$\n",
    "solve the equation above, we have\n",
    "$$\n",
    "[ES]_{eq}\\approx 0.0091\n",
    "$$"
   ]
  },
  {
   "attachments": {},
   "cell_type": "markdown",
   "id": "c069966a",
   "metadata": {},
   "source": [
    "b. When do you expect to see the first reaction, $E+S \\xrightleftharpoons[k_{1-}]{k_{1+}} ES$, reach quasi-equilibrium?"
   ]
  },
  {
   "attachments": {},
   "cell_type": "markdown",
   "id": "ba78a8a7",
   "metadata": {},
   "source": [
    "Consider that\n",
    "$$\n",
    "\\frac{d[ES]}{dt}=k_{1+}[E][S]-k_{1-}[ES]=[E][S]-0.1[ES]\n",
    "$$\n",
    "before the reaction reaches quasi-equilibrium, we have\n",
    "$$\n",
    "[S]\\approx [S]_0=1\n",
    "$$\n",
    "hence\n",
    "$$\n",
    "\\frac{d[ES]}{dt}=([E]_0-[ES])-0.1[ES]=0.01-1.1[ES]\n",
    "$$\n",
    "Suppose that the reaction approximately reaches quasi-equilibrium when $[ES]=0.9*[ES]_{eq}$ (due to approximation error). Solve the equation above to get\n",
    "$$\n",
    "t = \\int_{0}^{[ES]_{eq}}\\frac{dx}{0.01-1.1x}=\\frac{\\ln{(0.01-1.1x)}}{1.1}\\Big|_{0.0091\\times 0.9}^{0}\\approx 2.1\n",
    "$$"
   ]
  },
  {
   "attachments": {},
   "cell_type": "markdown",
   "id": "97f9a2c5",
   "metadata": {},
   "source": [
    "c. At what time is the substrate concentration depleted to half of its initial value?"
   ]
  },
  {
   "attachments": {},
   "cell_type": "markdown",
   "id": "1349f9af",
   "metadata": {},
   "source": [
    "It is reasonable to neglect the time in which the reaction reaches quasi-equilibrium compared to the time $[S]$ depletes to $0.5[S]_0$. In quasi-equilibrium, we have\n",
    "$$\n",
    "\\frac{d[P]}{dt}=\\frac{V_{max}[S]}{K_{m}+[S]}=\\frac{10^{-5}\\times[S]}{[S]+0.101}\n",
    "$$\n",
    "in which \n",
    "$$\n",
    "[P]\\simeq [S]_0-[S]\n",
    "$$\n",
    "hence\n",
    "$$\n",
    "\\frac{d[S]}{dt}=-\\frac{10^{-5}\\times[S]}{[S]+0.101}\n",
    "$$\n",
    "hence\n",
    "$$\n",
    "dt = -0.101d\\ln{[S]}-10^{5}d[S]\n",
    "$$\n",
    "hence we have\n",
    "$$\n",
    "t = -0.101\\ln[S]\\Big|_{1}^{0.5} -10^{5}[S]\\Big|_{1}^{0.5}\\approx 50000\n",
    "$$"
   ]
  },
  {
   "attachments": {},
   "cell_type": "markdown",
   "id": "f100b12a",
   "metadata": {},
   "source": [
    "### 4.2 ```COMPUTATION``` Simulations"
   ]
  },
  {
   "attachments": {},
   "cell_type": "markdown",
   "id": "b6b169b5",
   "metadata": {},
   "source": [
    "Simulate the reaction in (a) using the initial concentrations provided. From the simulation data:"
   ]
  },
  {
   "attachments": {},
   "cell_type": "markdown",
   "id": "a99861ca",
   "metadata": {},
   "source": [
    "a. Plot the behavior of $[E]$, $[S]$, $[ES]$ and $[P]$ vs. time from time $t_0=0$ until time $t_f=5$."
   ]
  },
  {
   "cell_type": "code",
   "execution_count": 1,
   "id": "514ca291",
   "metadata": {},
   "outputs": [
    {
     "data": {
      "image/png": "[encoded data removed]",
      "text/plain": [
       "<Figure size 576x432 with 1 Axes>"
      ]
     },
     "metadata": {
      "needs_background": "light"
     },
     "output_type": "display_data"
    }
   ],
   "source": [
    "import numpy as np\n",
    "from matplotlib import pyplot as plt\n",
    "from scipy.integrate import odeint\n",
    "\n",
    "E0, S0, k1, k_1, k2 = 0.01, 1, 1, 0.1, 0.001\n",
    "\n",
    "def dudt(u, *args):\n",
    "    S, ES, P = u\n",
    "    dSdt = -k1*E0*S + (k1*S + k_1)*ES\n",
    "    dESdt = k1*E0*S - (k1*S + k_1 + k2)*ES\n",
    "    dPdt = k2*ES\n",
    "    return [dSdt, dESdt, dPdt]\n",
    "\n",
    "t = np.linspace(0, 5, 1000)\n",
    "u0 = [S0, 0, 0]\n",
    "u = odeint(dudt, u0, t, args=(k1, k_1, k2))\n",
    "\n",
    "S_arr = u[:, 0]\n",
    "ES_arr = u[:, 1]\n",
    "P_arr = u[:, 2]\n",
    "E_arr = E0 - ES_arr\n",
    "\n",
    "fig, ax = plt.subplots()\n",
    "plt.rcParams.update({\n",
    "    \"text.usetex\": True\n",
    "})\n",
    "\n",
    "ax.plot(t, S_arr, label='$[S]$')\n",
    "ax.plot(t, ES_arr, label='$[ES]$')\n",
    "ax.plot(t, P_arr, label='$[P]$')\n",
    "ax.plot(t, E_arr, label='$[E]$')\n",
    "\n",
    "fig.set_size_inches(8,6)\n",
    "plt.xlabel('$t$')\n",
    "plt.yscale('log')\n",
    "plt.ylabel('$\\\\rm log\\ \\ concentration$')\n",
    "plt.legend()\n",
    "plt.savefig('4-2-a.jpg',dpi=1000, bbox_inches='tight')\n",
    "plt.show()"
   ]
  },
  {
   "attachments": {},
   "cell_type": "markdown",
   "id": "d0f1af43",
   "metadata": {},
   "source": [
    "b. Plot the behavior of $[E]$, $[S]$, $[ES]$ and $[P]$ vs. time from time $t_0=0$ until time $t_f=100,000$."
   ]
  },
  {
   "cell_type": "code",
   "execution_count": 2,
   "id": "79c6067e",
   "metadata": {},
   "outputs": [
    {
     "data": {
      "image/png": "[encoded data removed]",
      "text/plain": [
       "<Figure size 576x432 with 1 Axes>"
      ]
     },
     "metadata": {
      "needs_background": "light"
     },
     "output_type": "display_data"
    }
   ],
   "source": [
    "t = np.linspace(0, 100000, 100000)\n",
    "u0 = [S0, 0, 0]\n",
    "u = odeint(dudt, u0, t, args=(k1, k_1, k2))\n",
    "\n",
    "S_arr = u[:, 0]\n",
    "ES_arr = u[:, 1]\n",
    "P_arr = u[:, 2]\n",
    "E_arr = E0 - ES_arr\n",
    "\n",
    "fig, ax = plt.subplots()\n",
    "plt.rcParams.update({\n",
    "    \"text.usetex\": True\n",
    "})\n",
    "\n",
    "ax.plot(t, S_arr, label='$[S]$')\n",
    "ax.plot(t, ES_arr, label='$[ES]$')\n",
    "ax.plot(t, P_arr, label='$[P]$')\n",
    "ax.plot(t, E_arr, label='$[E]$')\n",
    "\n",
    "fig.set_size_inches(8,6)\n",
    "plt.xlabel('$t$')\n",
    "plt.yscale('log')\n",
    "plt.ylabel('$\\\\rm log\\ \\ concentration$')\n",
    "plt.legend()\n",
    "plt.savefig('4-2-b.jpg',dpi=1000, bbox_inches='tight')\n",
    "plt.show()"
   ]
  },
  {
   "attachments": {},
   "cell_type": "markdown",
   "id": "51dcec56",
   "metadata": {},
   "source": [
    "c. Plot the rate of production of $P$ vs. the concentration of $[S]$ from time $t_0=0$ until time $t_f=100,000$."
   ]
  },
  {
   "cell_type": "code",
   "execution_count": 3,
   "id": "f10bef05",
   "metadata": {},
   "outputs": [
    {
     "data": {
      "image/png": "[encoded data removed]",
      "text/plain": [
       "<Figure size 576x432 with 1 Axes>"
      ]
     },
     "metadata": {
      "needs_background": "light"
     },
     "output_type": "display_data"
    }
   ],
   "source": [
    "dPdt_arr = k2*ES_arr\n",
    "\n",
    "fig, ax = plt.subplots()\n",
    "plt.rcParams.update({\n",
    "    \"text.usetex\": True\n",
    "})\n",
    "\n",
    "ax.plot(S_arr, dPdt_arr)\n",
    "\n",
    "fig.set_size_inches(8,6)\n",
    "plt.xlabel('$[S]$')\n",
    "plt.ylabel('$\\\\frac{d[P]}{dt}$')\n",
    "plt.savefig('4-2-c.jpg',dpi=1000, bbox_inches='tight')\n",
    "plt.show()"
   ]
  },
  {
   "attachments": {},
   "cell_type": "markdown",
   "id": "3781fba2",
   "metadata": {},
   "source": [
    "d. Do these plots agree with your calculations from part (a)?"
   ]
  },
  {
   "attachments": {},
   "cell_type": "markdown",
   "id": "540458a0",
   "metadata": {},
   "source": [
    "These plots approximately agree with the calculation results from part (a)."
   ]
  },
  {
   "attachments": {},
   "cell_type": "markdown",
   "id": "e09ddd9a",
   "metadata": {},
   "source": [
    "Now, use the Michaelis-Menten equation to plot the expected rate of production of $[P]$ vs. the concentration of $[S]$. What causes the deviation of the simulation data from the Michaelis-Menten equation at substrate concentrations close to the initial concentration?"
   ]
  },
  {
   "attachments": {},
   "cell_type": "markdown",
   "id": "c6e6e0db",
   "metadata": {},
   "source": [
    "From the Michaelis-Menten equation, we have\n",
    "$$\n",
    "\\frac{d[P]}{dt}=\\frac{k_2[S][E]_0}{\\frac{k_{1-}+k_2}{k_{1+}}+[S]}=\\frac{10^{-5}\\times[S]}{[S]+0.101}\n",
    "$$"
   ]
  },
  {
   "cell_type": "code",
   "execution_count": 4,
   "id": "a28530fe",
   "metadata": {},
   "outputs": [
    {
     "data": {
      "image/png": "[encoded data removed]",
      "text/plain": [
       "<Figure size 576x432 with 1 Axes>"
      ]
     },
     "metadata": {
      "needs_background": "light"
     },
     "output_type": "display_data"
    }
   ],
   "source": [
    "S_arr = np.linspace(0, 1.0, 1000)\n",
    "dPdt_arr = 1e-5 * S_arr / (S_arr + 0.101)\n",
    "\n",
    "fig, ax = plt.subplots()\n",
    "plt.rcParams.update({\n",
    "    \"text.usetex\": True\n",
    "})\n",
    "\n",
    "ax.plot(S_arr, dPdt_arr)\n",
    "\n",
    "fig.set_size_inches(8,6)\n",
    "plt.xlabel('$[S]$')\n",
    "plt.ylabel('$\\\\frac{d[P]}{dt}$')\n",
    "plt.savefig('4-2-d.jpg',dpi=1000, bbox_inches='tight')\n",
    "plt.show()"
   ]
  },
  {
   "attachments": {},
   "cell_type": "markdown",
   "id": "bbcca4c1",
   "metadata": {},
   "source": [
    "The deviation of the simulation data from the Michaelis-Menten equation at substrate concentrations close to the initial concentration is caused by the fact that the quasi-equilibrium concentration of $ES$ is not equal to the initial concentration of $[ES]=0$, leading to a jump in the concentration of $[ES]$ at the beginning of the simulation."
   ]
  },
  {
   "attachments": {},
   "cell_type": "markdown",
   "id": "ab7ff4d4",
   "metadata": {},
   "source": [
    "### 4.3 ```COMPUTATION``` Fitting data"
   ]
  },
  {
   "attachments": {},
   "cell_type": "markdown",
   "id": "697ad09a",
   "metadata": {},
   "source": [
    "|  $V$ (rate of production of $[P]$)   | $S$ (concentratlon of substrate $[S]$)  |\n",
    "|  ----  | ----  |\n",
    "|0.15 |0.10|\n",
    "|0.34 |0.15|\n",
    "|0.35 |0.19|\n",
    "|0.42| 0.24|\n",
    "|0.48 |0.29|\n",
    "|0.60| 0.34|\n",
    "|0.52| 0.38|\n",
    "|0.63| 0.43|\n",
    "|0.63| 0.48|\n",
    "|0.63| 0.53|\n",
    "|0.60| 0.57|\n",
    "|0.66| 0.62|\n",
    "|0.69| 0.67|\n",
    "|0.63| 0.72|\n",
    "|0.73| 0.76|\n",
    "|0.69| 0.81|\n",
    "|0.74| 0.86|\n",
    "|0.77| 0.91|\n",
    "|0.72| 0.95|\n",
    "|0.75| 1.00|"
   ]
  },
  {
   "attachments": {},
   "cell_type": "markdown",
   "id": "96a1aaef",
   "metadata": {},
   "source": [
    "The two vectors listed in Table 1 correspond to 20 \"experimental\" measurements of the rate of production of $[P]$ (vector $V=\\frac{d[P]}{dt}$) and the concentration of substrate $[S]$ (vector $S$) respectively."
   ]
  },
  {
   "attachments": {},
   "cell_type": "markdown",
   "id": "abba1d07",
   "metadata": {},
   "source": [
    "a. The Michaelis-Menten equation says $V=V_{max}\\frac{S}{K_m +S}$. Express $V_{max}$ and $K_m$ explicitly in terms of the reaction rates and the concentrations specified in 4.1."
   ]
  },
  {
   "attachments": {},
   "cell_type": "markdown",
   "id": "841b27f3",
   "metadata": {},
   "source": [
    "In Michaelis-Menten equation, we have\n",
    "$$\n",
    "[ES]=\\frac{k_{1+}[S][E]_0}{k_{1+}[S]+k_{1-}+k_{2}}\\\\\n",
    "V=V_{max}\\frac{[S]}{K_m+[S]}\\frac{d[P]}{dt}=k_{2}[ES]=\\frac{k_2[S][E]_0}{\\frac{k_{1-}+k_2}{k_{1+}}+[S]}\n",
    "$$\n",
    "hence\n",
    "$$\n",
    "\\begin{aligned}\n",
    "V_{max}&=k_2[E]_0=10^{-5}\\\\\n",
    "K_m&=\\frac{k_{1-}+k_2}{k_{1+}}=0.101\n",
    "\\end{aligned}\n",
    "$$"
   ]
  },
  {
   "attachments": {},
   "cell_type": "markdown",
   "id": "f4198fbc",
   "metadata": {},
   "source": [
    "b. Plot the data and fit them to the Michaelis-Menten equation for estimates of $V_{max}$ and $K_m$. Plot the fitted curve on the same graph."
   ]
  },
  {
   "cell_type": "code",
   "execution_count": 1,
   "id": "1b7093fe",
   "metadata": {},
   "outputs": [
    {
     "name": "stdout",
     "output_type": "stream",
     "text": [
      "[0.99864915 0.31815942]\n"
     ]
    },
    {
     "data": {
      "image/png": "[encoded data removed]",
      "text/plain": [
       "<Figure size 576x432 with 1 Axes>"
      ]
     },
     "metadata": {
      "needs_background": "light"
     },
     "output_type": "display_data"
    }
   ],
   "source": [
    "import numpy as np\n",
    "from scipy.optimize import curve_fit\n",
    "from matplotlib import pyplot as plt\n",
    "\n",
    "V_arr = np.array([0.15, 0.34, 0.35, 0.42, 0.48, 0.60, 0.52, 0.63, 0.63, 0.63, 0.60, 0.66, 0.69, 0.63, 0.73, 0.69, 0.74, 0.77, 0.72, 0.75])\n",
    "S_arr = np.array([0.10, 0.15, 0.19, 0.24, 0.29, 0.34, 0.38, 0.43, 0.48, 0.53, 0.57, 0.62, 0.67, 0.72, 0.76, 0.81, 0.86, 0.91, 0.95, 1.00])\n",
    "\n",
    "def MM_func(s, Vmax, Km):\n",
    "    return Vmax * s / (Km + s)\n",
    "\n",
    "popt, pcov = curve_fit(MM_func, S_arr, V_arr)\n",
    "print(popt)\n",
    "\n",
    "fig, ax = plt.subplots()\n",
    "plt.rcParams.update({\n",
    "    \"text.usetex\": True\n",
    "})\n",
    "\n",
    "ax.plot(S_arr, V_arr, label='Data')\n",
    "ax.plot(S_arr, MM_func(S_arr, *popt), label='Fitted Curve')\n",
    "\n",
    "fig.set_size_inches(8,6)\n",
    "plt.xlabel('$[S]$')\n",
    "plt.ylabel('$[V]$')\n",
    "plt.legend()\n",
    "plt.savefig('4-3-b.jpg',dpi=1000, bbox_inches='tight')\n",
    "plt.show()"
   ]
  },
  {
   "attachments": {},
   "cell_type": "markdown",
   "id": "9d19a97d",
   "metadata": {},
   "source": [
    "The fitted curve is shown in the following figure, where\n",
    "$$\n",
    "\\begin{aligned}\n",
    "V_{max}&=0.9986\\\\\n",
    "K_m&=0.3182\n",
    "\\end{aligned}\n",
    "$$"
   ]
  },
  {
   "attachments": {},
   "cell_type": "markdown",
   "id": "99aae8e1",
   "metadata": {},
   "source": [
    "c. We can transform the Michaelis-Menten equation by taking the reciprocal of both sides $\\frac{1}{V}=\\frac{K_m}{V_{max}S}+\\frac{1}{V_{max}}$. This double reciprocal form is called the Lineweaver-Burk equation. Plot the data as $\\frac{1}{V}$ vs. $\\frac{1}{S}$. Fit the data for estimates of $V_{max}$ and $K_m$, and plot the fitted line on the same graph."
   ]
  },
  {
   "cell_type": "code",
   "execution_count": 2,
   "id": "4ff11125",
   "metadata": {},
   "outputs": [
    {
     "name": "stdout",
     "output_type": "stream",
     "text": [
      "[1.58086739 0.78394321]\n"
     ]
    },
    {
     "data": {
      "image/png": "[encoded data removed]",
      "text/plain": [
       "<Figure size 576x432 with 1 Axes>"
      ]
     },
     "metadata": {
      "needs_background": "light"
     },
     "output_type": "display_data"
    }
   ],
   "source": [
    "V_rec_arr = 1 / V_arr\n",
    "S_rec_arr = 1 / S_arr\n",
    "\n",
    "def MM_func_linear(s_rec, Vmax, Km):\n",
    "    return (Km * s_rec / Vmax) + (1 / Vmax)\n",
    "\n",
    "popt, pcov = curve_fit(MM_func_linear, S_rec_arr, V_rec_arr)\n",
    "print(popt)\n",
    "\n",
    "fig, ax = plt.subplots()\n",
    "plt.rcParams.update({\n",
    "    \"text.usetex\": True\n",
    "})\n",
    "\n",
    "ax.plot(S_rec_arr, V_rec_arr, label='Data')\n",
    "ax.plot(S_rec_arr, MM_func_linear(S_rec_arr, *popt), label='Fitted Curve')\n",
    "\n",
    "fig.set_size_inches(8,6)\n",
    "plt.xlabel('$\\\\frac{1}{[S]}$')\n",
    "plt.ylabel('$\\\\frac{1}{[V]}$')\n",
    "plt.legend()\n",
    "plt.savefig('4-3-c.jpg',dpi=1000, bbox_inches='tight')\n",
    "plt.show()"
   ]
  },
  {
   "attachments": {},
   "cell_type": "markdown",
   "id": "7d4fd6b3",
   "metadata": {},
   "source": [
    "The fitted curve is shown in the following figure, where\n",
    "$$\n",
    "\\begin{aligned}\n",
    "V_{max}&=1.5809\\\\\n",
    "K_m&=0.7839\n",
    "\\end{aligned}\n",
    "$$"
   ]
  },
  {
   "attachments": {},
   "cell_type": "markdown",
   "id": "f51913f5",
   "metadata": {},
   "source": [
    "d. Compare the fitted values of $V_{max}$ and $K_m$ given in (b) and (c). Why are they different? Is the difference significant?"
   ]
  },
  {
   "attachments": {},
   "cell_type": "markdown",
   "id": "43b9d569",
   "metadata": {},
   "source": [
    "The difference of $V_{max}$ and $K_m$ is significant. \n",
    "\n",
    "The Michaelis-Menten equation is a nonlinear function, while the Lineweaver-Burk equation is a linear function. The latter is more sensitive to the error of the data. From the figures above, we can see that the data points are not well fitted by the linear function particularly due to the unignorable measurement error when $[S]$ is small."
   ]
  }
 ],
 "metadata": {
  "kernelspec": {
   "display_name": "ProteinDesign",
   "language": "python",
   "name": "python3"
  },
  "language_info": {
   "codemirror_mode": {
    "name": "ipython",
    "version": 3
   },
   "file_extension": ".py",
   "mimetype": "text/x-python",
   "name": "python",
   "nbconvert_exporter": "python",
   "pygments_lexer": "ipython3",
   "version": "3.7.12"
  },
  "latex_envs": {
   "LaTeX_envs_menu_present": true,
   "autoclose": false,
   "autocomplete": false,
   "bibliofile": "biblio.bib",
   "cite_by": "apalike",
   "current_citInitial": 1,
   "eqLabelWithNumbers": true,
   "eqNumInitial": 1,
   "hotkeys": {
    "equation": "Ctrl-E",
    "itemize": "Ctrl-I"
   },
   "labels_anchors": false,
   "latex_user_defs": false,
   "report_style_numbering": false,
   "user_envs_cfg": false
  },
  "vscode": {
   "interpreter": {
    "hash": "bafef71ca89fdd3ca528d3a5709357ad0194c247cd708d93328d24c6db863ff6"
   }
  }
 },
 "nbformat": 4,
 "nbformat_minor": 5
}
